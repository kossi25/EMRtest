{
 "cells": [
  {
   "cell_type": "code",
   "execution_count": 1,
   "metadata": {},
   "outputs": [
    {
     "name": "stdout",
     "output_type": "stream",
     "text": [
      "{\n",
      "    \"Cluster\": {\n",
      "        \"Id\": \"j-JNFRHXJAXD45\",\n",
      "        \"Name\": \"NotebookCluster\",\n",
      "        \"Status\": {\n",
      "            \"State\": \"WAITING\",\n",
      "            \"StateChangeReason\": {\n",
      "                \"Message\": \"Cluster ready to run steps.\"\n",
      "            },\n",
      "            \"Timeline\": {\n",
      "                \"CreationDateTime\": 1584713635.44,\n",
      "                \"ReadyDateTime\": 1584713958.095\n",
      "            }\n",
      "        },\n",
      "        \"Ec2InstanceAttributes\": {\n",
      "            \"Ec2SubnetId\": \"subnet-6ba49e0c\",\n",
      "            \"RequestedEc2SubnetIds\": [\n",
      "                \"subnet-6ba49e0c\"\n",
      "            ],\n",
      "            \"Ec2AvailabilityZone\": \"us-east-1b\",\n",
      "            \"RequestedEc2AvailabilityZones\": [],\n",
      "            \"IamInstanceProfile\": \"EMR_EC2_DefaultRole\",\n",
      "            \"EmrManagedMasterSecurityGroup\": \"sg-0a5ffcf1f33155124\",\n",
      "            \"EmrManagedSlaveSecurityGroup\": \"sg-0e7aa10f719f90c50\"\n",
      "        },\n",
      "        \"InstanceCollectionType\": \"INSTANCE_GROUP\",\n",
      "        \"LogUri\": \"s3n://aws-logs-507786327009-us-east-1/elasticmapreduce/\",\n",
      "        \"ReleaseLabel\": \"emr-5.29.0\",\n",
      "        \"AutoTerminate\": false,\n",
      "        \"TerminationProtected\": false,\n",
      "        \"VisibleToAllUsers\": true,\n",
      "        \"Applications\": [\n",
      "            {\n",
      "                \"Name\": \"Hadoop\",\n",
      "                \"Version\": \"2.8.5\"\n",
      "            },\n",
      "            {\n",
      "                \"Name\": \"Spark\",\n",
      "                \"Version\": \"2.4.4\"\n",
      "            },\n",
      "            {\n",
      "                \"Name\": \"Livy\",\n",
      "                \"Version\": \"0.6.0\"\n",
      "            },\n",
      "            {\n",
      "                \"Name\": \"Hive\",\n",
      "                \"Version\": \"2.3.6\"\n",
      "            }\n",
      "        ],\n",
      "        \"Tags\": [\n",
      "            {\n",
      "                \"Key\": \"creator\",\n",
      "                \"Value\": \"NOTEBOOK_CONSOLE\"\n",
      "            }\n",
      "        ],\n",
      "        \"ServiceRole\": \"EMR_DefaultRole\",\n",
      "        \"NormalizedInstanceHours\": 536,\n",
      "        \"MasterPublicDnsName\": \"ec2-3-234-178-187.compute-1.amazonaws.com\",\n",
      "        \"Configurations\": [],\n",
      "        \"ScaleDownBehavior\": \"TERMINATE_AT_TASK_COMPLETION\",\n",
      "        \"KerberosAttributes\": {},\n",
      "        \"ClusterArn\": \"arn:aws:elasticmapreduce:us-east-1:507786327009:cluster/j-JNFRHXJAXD45\",\n",
      "        \"StepConcurrencyLevel\": 1,\n",
      "        \"BootstrapActions\": [],\n",
      "        \"InstanceGroups\": [\n",
      "            {\n",
      "                \"Id\": \"ig-1OLBR4ER3M34K\",\n",
      "                \"Name\": \"Master Instance Group\",\n",
      "                \"Market\": \"ON_DEMAND\",\n",
      "                \"InstanceGroupType\": \"MASTER\",\n",
      "                \"InstanceType\": \"m5.xlarge\",\n",
      "                \"RequestedInstanceCount\": 1,\n",
      "                \"RunningInstanceCount\": 1,\n",
      "                \"Status\": {\n",
      "                    \"State\": \"RUNNING\",\n",
      "                    \"StateChangeReason\": {\n",
      "                        \"Message\": \"\"\n",
      "                    },\n",
      "                    \"Timeline\": {\n",
      "                        \"CreationDateTime\": 1584713635.443,\n",
      "                        \"ReadyDateTime\": 1584713901.547\n",
      "                    }\n",
      "                },\n",
      "                \"Configurations\": [],\n",
      "                \"ConfigurationsVersion\": 0,\n",
      "                \"LastSuccessfullyAppliedConfigurations\": [],\n",
      "                \"LastSuccessfullyAppliedConfigurationsVersion\": 0,\n",
      "                \"EbsBlockDevices\": [\n",
      "                    {\n",
      "                        \"VolumeSpecification\": {\n",
      "                            \"VolumeType\": \"gp2\",\n",
      "                            \"SizeInGB\": 32\n",
      "                        },\n",
      "                        \"Device\": \"/dev/sdb\"\n",
      "                    },\n",
      "                    {\n",
      "                        \"VolumeSpecification\": {\n",
      "                            \"VolumeType\": \"gp2\",\n",
      "                            \"SizeInGB\": 32\n",
      "                        },\n",
      "                        \"Device\": \"/dev/sdc\"\n",
      "                    }\n",
      "                ],\n",
      "                \"ShrinkPolicy\": {}\n",
      "            }\n",
      "        ]\n",
      "    }\n",
      "}\n"
     ]
    }
   ],
   "source": [
    "%%bash\n",
    "\n",
    "aws emr describe-cluster --cluster-id j-JNFRHXJAXD45"
   ]
  },
  {
   "cell_type": "code",
   "execution_count": 2,
   "metadata": {},
   "outputs": [
    {
     "name": "stdout",
     "output_type": "stream",
     "text": [
      "[\n",
      "    {\n",
      "        \"Name\": \"Hadoop\",\n",
      "        \"Version\": \"2.8.5\"\n",
      "    },\n",
      "    {\n",
      "        \"Name\": \"Spark\",\n",
      "        \"Version\": \"2.4.4\"\n",
      "    },\n",
      "    {\n",
      "        \"Name\": \"Livy\",\n",
      "        \"Version\": \"0.6.0\"\n",
      "    },\n",
      "    {\n",
      "        \"Name\": \"Hive\",\n",
      "        \"Version\": \"2.3.6\"\n",
      "    }\n",
      "]\n"
     ]
    }
   ],
   "source": [
    "%%bash\n",
    "\n",
    "aws emr describe-cluster --cluster-id j-JNFRHXJAXD45 --output json --query \"Cluster.Applications\""
   ]
  },
  {
   "cell_type": "code",
   "execution_count": 3,
   "metadata": {},
   "outputs": [
    {
     "name": "stdout",
     "output_type": "stream",
     "text": [
      "\"WAITING\"\n"
     ]
    }
   ],
   "source": [
    "%%bash\n",
    "\n",
    "aws emr describe-cluster --cluster-id j-JNFRHXJAXD45 --output json --query \"Cluster.Status.State\""
   ]
  },
  {
   "cell_type": "code",
   "execution_count": 10,
   "metadata": {},
   "outputs": [
    {
     "name": "stdout",
     "output_type": "stream",
     "text": [
      "Size of bucket = 4753168484\n"
     ]
    }
   ],
   "source": [
    "%%bash\n",
    "\n",
    "emr_bucket_size=`aws s3api list-objects --bucket aws-emr-resources-507786327009-us-east-1 --output json --query \"[sum(Contents[].Size)][0]\"`\n",
    "\n",
    "echo \"Size of bucket =\" $emr_bucket_size"
   ]
  },
  {
   "cell_type": "code",
   "execution_count": 7,
   "metadata": {},
   "outputs": [
    {
     "name": "stdout",
     "output_type": "stream",
     "text": [
      "[\n",
      "    \"NotebookCluster\"\n",
      "]\n"
     ]
    }
   ],
   "source": [
    "%%bash\n",
    "\n",
    "aws emr list-clusters --cluster-states WAITING  --output json --query \"Clusters[].Name\""
   ]
  },
  {
   "cell_type": "code",
   "execution_count": 8,
   "metadata": {},
   "outputs": [
    {
     "name": "stdout",
     "output_type": "stream",
     "text": [
      "[\n",
      "    [\n",
      "        \"banubori-Isengard\",\n",
      "        \"PutBucketPublicAccessBlock\"\n",
      "    ],\n",
      "    [\n",
      "        \"banubori-Isengard\",\n",
      "        \"CreateBucket\"\n",
      "    ],\n",
      "    [\n",
      "        \"banubori-Isengard\",\n",
      "        \"CreateBucket\"\n",
      "    ],\n",
      "    [\n",
      "        \"banubori-Isengard\",\n",
      "        \"CreateBucket\"\n",
      "    ],\n",
      "    [\n",
      "        \"session\",\n",
      "        \"CreateBucket\"\n",
      "    ],\n",
      "    [\n",
      "        \"banubori-Isengard\",\n",
      "        \"PutBucketPublicAccessBlock\"\n",
      "    ],\n",
      "    [\n",
      "        \"banubori-Isengard\",\n",
      "        \"CreateBucket\"\n",
      "    ]\n",
      "]\n"
     ]
    }
   ],
   "source": [
    "%%bash\n",
    "\n",
    "aws cloudtrail lookup-events --lookup-attributes AttributeKey=ResourceType,AttributeValue=AWS::S3::Bucket --max-results 7 --query \"Events[].[Username,EventName]\""
   ]
  },
  {
   "cell_type": "code",
   "execution_count": 9,
   "metadata": {},
   "outputs": [
    {
     "name": "stdout",
     "output_type": "stream",
     "text": [
      "2020-03-20 14:13:45 aws-emr-resources-507786327009-us-east-1\n",
      "2020-03-20 15:35:42 bbb-emr-sagemaker-20032020\n"
     ]
    }
   ],
   "source": [
    "!aws s3 ls | grep emr"
   ]
  },
  {
   "cell_type": "code",
   "execution_count": null,
   "metadata": {},
   "outputs": [],
   "source": []
  }
 ],
 "metadata": {
  "kernelspec": {
   "display_name": "conda_python3",
   "language": "python",
   "name": "conda_python3"
  },
  "language_info": {
   "codemirror_mode": {
    "name": "ipython",
    "version": 3
   },
   "file_extension": ".py",
   "mimetype": "text/x-python",
   "name": "python",
   "nbconvert_exporter": "python",
   "pygments_lexer": "ipython3",
   "version": "3.6.5"
  }
 },
 "nbformat": 4,
 "nbformat_minor": 4
}
