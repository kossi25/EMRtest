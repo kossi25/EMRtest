{
 "cells": [
  {
   "cell_type": "code",
   "execution_count": 76,
   "metadata": {},
   "outputs": [],
   "source": [
    "import pandas as pd\n",
    "import numpy as np\n",
    "import matplotlib.pyplot as plt\n",
    "import io\n",
    "import os\n",
    "import datetime as dt\n",
    "import pickle as pkl\n",
    "from sklearn import metrics\n",
    "from sklearn.metrics import confusion_matrix\n",
    "from sklearn.metrics import accuracy_score\n",
    "from sklearn.metrics import roc_auc_score\n",
    "\n",
    "import sagemaker\n",
    "import boto3\n",
    "from sagemaker.predictor import csv_serializer\n",
    "from sagemaker import get_execution_role"
   ]
  },
  {
   "cell_type": "code",
   "execution_count": 77,
   "metadata": {},
   "outputs": [],
   "source": [
    "role = get_execution_role()\n",
    "region = boto3.Session().region_name  "
   ]
  },
  {
   "cell_type": "code",
   "execution_count": 78,
   "metadata": {},
   "outputs": [],
   "source": [
    "bucket = 'aws-emr-resources-507786327009-us-east-1'\n",
    "prefix = 'taxidata_v6'"
   ]
  },
  {
   "cell_type": "code",
   "execution_count": 79,
   "metadata": {},
   "outputs": [],
   "source": [
    "s3_input_train = sagemaker.s3_input(s3_data='s3://{}/{}/train'.format(bucket, prefix), content_type='csv')\n",
    "s3_input_validation = sagemaker.s3_input(s3_data='s3://{}/{}/validation/'.format(bucket, prefix), content_type='csv')"
   ]
  },
  {
   "cell_type": "code",
   "execution_count": 80,
   "metadata": {},
   "outputs": [],
   "source": [
    "from sagemaker.amazon.amazon_estimator import get_image_uri\n",
    "\n",
    "sess = sagemaker.Session()\n",
    "\n",
    "container = get_image_uri(region, 'xgboost', '0.90-1')\n",
    "\n",
    "xgb = sagemaker.estimator.Estimator(container,\n",
    "                                    role, \n",
    "                                    train_instance_count=1, \n",
    "                                    train_instance_type='ml.m4.xlarge',\n",
    "                                    output_path='s3://{}/{}/output'.format(bucket, prefix),\n",
    "                                    sagemaker_session=sess)\n"
   ]
  },
  {
   "cell_type": "code",
   "execution_count": 81,
   "metadata": {},
   "outputs": [],
   "source": [
    "xgb.set_hyperparameters(max_depth=2,\n",
    "                        eta=0.2,\n",
    "                        gamma=4,\n",
    "                        min_child_weight=6,\n",
    "                        subsample=0.8,\n",
    "                        silent=0,\n",
    "                        objective='reg:squarederror',\n",
    "                        num_round=70,\n",
    "                        eval_metric='rmse')"
   ]
  },
  {
   "cell_type": "code",
   "execution_count": null,
   "metadata": {},
   "outputs": [
    {
     "name": "stdout",
     "output_type": "stream",
     "text": [
      "2020-04-05 11:39:51 Starting - Starting the training job...\n",
      "2020-04-05 11:39:53 Starting - Launching requested ML instances...."
     ]
    }
   ],
   "source": [
    "xgb.fit({'train': s3_input_train, 'validation': s3_input_validation})"
   ]
  },
  {
   "cell_type": "markdown",
   "metadata": {},
   "source": [
    "# Test"
   ]
  },
  {
   "cell_type": "code",
   "execution_count": 67,
   "metadata": {},
   "outputs": [
    {
     "name": "stdout",
     "output_type": "stream",
     "text": [
      "---------------!"
     ]
    }
   ],
   "source": [
    "xgb_predictor = xgb.deploy(initial_instance_count=1, instance_type='ml.m4.xlarge')\n",
    "xgb_predictor.content_type = 'text/csv'\n",
    "xgb_predictor.serializer = csv_serializer\n",
    "xgb_predictor.deserializer = None"
   ]
  },
  {
   "cell_type": "code",
   "execution_count": 29,
   "metadata": {},
   "outputs": [],
   "source": [
    "test_file_ = 'part-00000-67622f1f-1e3b-4629-8da4-e92d79a27399-c000.csv'"
   ]
  },
  {
   "cell_type": "code",
   "execution_count": 26,
   "metadata": {},
   "outputs": [],
   "source": [
    "test_bucket_ = 's3://{}/{}/test/test.csv/part-00000-3af93797-4b2e-4e1e-a3ea-b060bd2b218b-c000.csv'.format(bucket, prefix)"
   ]
  },
  {
   "cell_type": "code",
   "execution_count": 27,
   "metadata": {},
   "outputs": [
    {
     "name": "stdout",
     "output_type": "stream",
     "text": [
      "download: s3://aws-emr-resources-507786327009-us-east-1/taxidata2/test/test.csv/part-00000-3af93797-4b2e-4e1e-a3ea-b060bd2b218b-c000.csv to ./part-00000-3af93797-4b2e-4e1e-a3ea-b060bd2b218b-c000.csv\n"
     ]
    }
   ],
   "source": [
    "!aws s3 cp $test_bucket_ ."
   ]
  },
  {
   "cell_type": "code",
   "execution_count": 68,
   "metadata": {},
   "outputs": [],
   "source": [
    "test_data_df = pd.read_csv(test_file_).head(100)"
   ]
  },
  {
   "cell_type": "code",
   "execution_count": 72,
   "metadata": {},
   "outputs": [],
   "source": [
    "def predict(data, rows=500):\n",
    "    split_array = np.array_split(data, int(data.shape[0] / float(rows) + 1))\n",
    "    predictions = ''\n",
    "    for array in split_array:\n",
    "        predictions = ','.join([predictions, xgb_predictor.predict(array).decode('utf-8')])\n",
    "\n",
    "    return np.fromstring(predictions[1:], sep=',')"
   ]
  },
  {
   "cell_type": "code",
   "execution_count": 73,
   "metadata": {},
   "outputs": [
    {
     "name": "stdout",
     "output_type": "stream",
     "text": [
      "[113.1368866  113.1368866  181.86711121 157.83950806 126.46881866\n",
      " 108.34696198 113.86780548  74.41907501  75.03672028 117.08781433\n",
      " 114.34994507 123.1421051  172.13899231 172.13899231  98.21212769\n",
      "  73.9143219   84.66641998 113.72432709 103.52446747 105.35676575\n",
      " 103.52446747  73.9143219  166.65112305 111.9879837  111.9879837\n",
      " 102.25985718 125.74923706 139.85775757 122.38574982 160.06062317\n",
      "  88.25262451 113.1368866  109.02374268  73.9143219  112.94224548\n",
      " 112.94224548 118.9678421  118.46308899 157.38226318  80.04853058\n",
      "  85.30313873 112.38722992 107.36790466  78.02746582  73.9143219\n",
      "  78.02746582 130.6973877  130.6973877  136.1852417  109.61118317\n",
      " 113.72432709 109.61118317 109.61118317 117.08781433 123.59664154\n",
      " 154.00265503 113.72432709  78.02746582  73.9143219  172.13899231\n",
      "  74.41907501 113.72432709  74.41907501  73.78356934  70.83407593\n",
      " 113.86851501 103.52446747  73.9143219   78.53221893  78.02746582\n",
      "  84.66641998  98.21212769 166.65112305 120.96929932 120.96929932\n",
      " 135.97528076 103.52446747  82.11842346  78.53221893  73.9143219\n",
      " 117.1071701  111.49215698 111.13982391 181.86711121  74.41907501\n",
      " 156.92300415 166.65112305 188.60758972 173.23574829 160.5683136\n",
      " 116.50037384 109.02374268 109.61118317 162.00871277 173.72625732\n",
      " 112.97467041 112.97467041 100.73886871 106.81590271  80.55327606]\n"
     ]
    }
   ],
   "source": [
    "predictions = predict(test_data_df.values[:, :-1])\n",
    "print(predictions)"
   ]
  },
  {
   "cell_type": "code",
   "execution_count": 74,
   "metadata": {},
   "outputs": [
    {
     "name": "stdout",
     "output_type": "stream",
     "text": [
      "[0.   0.   0.   3.99 0.   2.19 0.   1.45 0.   0.   0.   0.   0.   4.06\n",
      " 1.96 1.36 0.   0.   3.7  0.   0.   4.14 0.   0.   0.   1.96 0.   7.29\n",
      " 0.   0.   0.   0.   1.56 0.   1.76 1.66 0.   0.   0.   0.   0.   6.\n",
      " 5.08 0.   0.96 0.   0.   0.   6.2  1.2  0.   0.   0.   0.   0.   0.\n",
      " 0.   0.   0.01 2.5  1.76 0.   0.   0.   3.   2.2  1.08 1.36 0.   0.\n",
      " 0.   1.96 0.   1.16 1.56 2.   1.36 0.   0.   2.36 0.   4.46 2.   0.\n",
      " 2.32 1.36 0.   4.26 0.   1.   0.   1.56 1.36 0.   2.86 2.   4.   1.26\n",
      " 0.   4.  ]\n"
     ]
    }
   ],
   "source": [
    "print(test_data_df.values[:, -1])"
   ]
  },
  {
   "cell_type": "code",
   "execution_count": 75,
   "metadata": {},
   "outputs": [
    {
     "data": {
      "text/html": [
       "<div>\n",
       "<style scoped>\n",
       "    .dataframe tbody tr th:only-of-type {\n",
       "        vertical-align: middle;\n",
       "    }\n",
       "\n",
       "    .dataframe tbody tr th {\n",
       "        vertical-align: top;\n",
       "    }\n",
       "\n",
       "    .dataframe thead th {\n",
       "        text-align: right;\n",
       "    }\n",
       "</style>\n",
       "<table border=\"1\" class=\"dataframe\">\n",
       "  <thead>\n",
       "    <tr style=\"text-align: right;\">\n",
       "      <th></th>\n",
       "      <th>95</th>\n",
       "      <th>56</th>\n",
       "      <th>1</th>\n",
       "      <th>1.52</th>\n",
       "      <th>1.1</th>\n",
       "      <th>9.3</th>\n",
       "      <th>2</th>\n",
       "      <th>1.2</th>\n",
       "      <th>8.0</th>\n",
       "      <th>0.0</th>\n",
       "      <th>...</th>\n",
       "      <th>20</th>\n",
       "      <th>10</th>\n",
       "      <th>41</th>\n",
       "      <th>2017.1</th>\n",
       "      <th>3.1</th>\n",
       "      <th>20.1</th>\n",
       "      <th>10.1</th>\n",
       "      <th>49</th>\n",
       "      <th>1.4194</th>\n",
       "      <th>0.0.1</th>\n",
       "    </tr>\n",
       "  </thead>\n",
       "  <tbody>\n",
       "    <tr>\n",
       "      <th>0</th>\n",
       "      <td>95</td>\n",
       "      <td>95</td>\n",
       "      <td>1</td>\n",
       "      <td>0.98</td>\n",
       "      <td>1</td>\n",
       "      <td>8.30</td>\n",
       "      <td>2</td>\n",
       "      <td>1.0</td>\n",
       "      <td>7.0</td>\n",
       "      <td>0.0000</td>\n",
       "      <td>...</td>\n",
       "      <td>20</td>\n",
       "      <td>10</td>\n",
       "      <td>12</td>\n",
       "      <td>2017</td>\n",
       "      <td>3</td>\n",
       "      <td>20</td>\n",
       "      <td>10</td>\n",
       "      <td>19</td>\n",
       "      <td>1.2750</td>\n",
       "      <td>0.00</td>\n",
       "    </tr>\n",
       "    <tr>\n",
       "      <th>1</th>\n",
       "      <td>95</td>\n",
       "      <td>28</td>\n",
       "      <td>1</td>\n",
       "      <td>1.69</td>\n",
       "      <td>1</td>\n",
       "      <td>8.80</td>\n",
       "      <td>2</td>\n",
       "      <td>1.0</td>\n",
       "      <td>7.5</td>\n",
       "      <td>0.0000</td>\n",
       "      <td>...</td>\n",
       "      <td>20</td>\n",
       "      <td>10</td>\n",
       "      <td>51</td>\n",
       "      <td>2017</td>\n",
       "      <td>3</td>\n",
       "      <td>20</td>\n",
       "      <td>10</td>\n",
       "      <td>57</td>\n",
       "      <td>1.0444</td>\n",
       "      <td>0.00</td>\n",
       "    </tr>\n",
       "    <tr>\n",
       "      <th>2</th>\n",
       "      <td>255</td>\n",
       "      <td>52</td>\n",
       "      <td>1</td>\n",
       "      <td>4.30</td>\n",
       "      <td>1</td>\n",
       "      <td>15.30</td>\n",
       "      <td>2</td>\n",
       "      <td>1.0</td>\n",
       "      <td>14.0</td>\n",
       "      <td>0.0000</td>\n",
       "      <td>...</td>\n",
       "      <td>20</td>\n",
       "      <td>10</td>\n",
       "      <td>12</td>\n",
       "      <td>2017</td>\n",
       "      <td>3</td>\n",
       "      <td>20</td>\n",
       "      <td>10</td>\n",
       "      <td>25</td>\n",
       "      <td>2.0528</td>\n",
       "      <td>0.00</td>\n",
       "    </tr>\n",
       "    <tr>\n",
       "      <th>3</th>\n",
       "      <td>255</td>\n",
       "      <td>49</td>\n",
       "      <td>1</td>\n",
       "      <td>2.90</td>\n",
       "      <td>1</td>\n",
       "      <td>17.29</td>\n",
       "      <td>1</td>\n",
       "      <td>1.0</td>\n",
       "      <td>12.0</td>\n",
       "      <td>0.3325</td>\n",
       "      <td>...</td>\n",
       "      <td>20</td>\n",
       "      <td>10</td>\n",
       "      <td>49</td>\n",
       "      <td>2017</td>\n",
       "      <td>3</td>\n",
       "      <td>20</td>\n",
       "      <td>11</td>\n",
       "      <td>3</td>\n",
       "      <td>2.3111</td>\n",
       "      <td>3.99</td>\n",
       "    </tr>\n",
       "    <tr>\n",
       "      <th>4</th>\n",
       "      <td>226</td>\n",
       "      <td>82</td>\n",
       "      <td>1</td>\n",
       "      <td>3.06</td>\n",
       "      <td>1</td>\n",
       "      <td>12.80</td>\n",
       "      <td>2</td>\n",
       "      <td>1.0</td>\n",
       "      <td>11.5</td>\n",
       "      <td>0.0000</td>\n",
       "      <td>...</td>\n",
       "      <td>20</td>\n",
       "      <td>10</td>\n",
       "      <td>9</td>\n",
       "      <td>2017</td>\n",
       "      <td>3</td>\n",
       "      <td>20</td>\n",
       "      <td>10</td>\n",
       "      <td>22</td>\n",
       "      <td>2.1111</td>\n",
       "      <td>0.00</td>\n",
       "    </tr>\n",
       "  </tbody>\n",
       "</table>\n",
       "<p>5 rows × 22 columns</p>\n",
       "</div>"
      ],
      "text/plain": [
       "    95  56  1  1.52  1.1    9.3  2  1.2   8.0     0.0  ...  20  10  41  \\\n",
       "0   95  95  1  0.98    1   8.30  2  1.0   7.0  0.0000  ...  20  10  12   \n",
       "1   95  28  1  1.69    1   8.80  2  1.0   7.5  0.0000  ...  20  10  51   \n",
       "2  255  52  1  4.30    1  15.30  2  1.0  14.0  0.0000  ...  20  10  12   \n",
       "3  255  49  1  2.90    1  17.29  1  1.0  12.0  0.3325  ...  20  10  49   \n",
       "4  226  82  1  3.06    1  12.80  2  1.0  11.5  0.0000  ...  20  10   9   \n",
       "\n",
       "   2017.1  3.1  20.1  10.1  49  1.4194  0.0.1  \n",
       "0    2017    3    20    10  19  1.2750   0.00  \n",
       "1    2017    3    20    10  57  1.0444   0.00  \n",
       "2    2017    3    20    10  25  2.0528   0.00  \n",
       "3    2017    3    20    11   3  2.3111   3.99  \n",
       "4    2017    3    20    10  22  2.1111   0.00  \n",
       "\n",
       "[5 rows x 22 columns]"
      ]
     },
     "execution_count": 75,
     "metadata": {},
     "output_type": "execute_result"
    }
   ],
   "source": [
    "test_data_df.head()"
   ]
  },
  {
   "cell_type": "code",
   "execution_count": 53,
   "metadata": {},
   "outputs": [
    {
     "data": {
      "text/plain": [
       "[0, 1, 2, 3, 4, 5, 6, 7, 8, 9]"
      ]
     },
     "execution_count": 53,
     "metadata": {},
     "output_type": "execute_result"
    }
   ],
   "source": [
    "a"
   ]
  },
  {
   "cell_type": "code",
   "execution_count": 55,
   "metadata": {},
   "outputs": [
    {
     "data": {
      "text/plain": [
       "[0, 1, 2, 3, 4, 5, 6, 7, 8]"
      ]
     },
     "execution_count": 55,
     "metadata": {},
     "output_type": "execute_result"
    }
   ],
   "source": [
    "a[:-1]"
   ]
  },
  {
   "cell_type": "code",
   "execution_count": null,
   "metadata": {},
   "outputs": [],
   "source": []
  }
 ],
 "metadata": {
  "kernelspec": {
   "display_name": "conda_python3",
   "language": "python",
   "name": "conda_python3"
  },
  "language_info": {
   "codemirror_mode": {
    "name": "ipython",
    "version": 3
   },
   "file_extension": ".py",
   "mimetype": "text/x-python",
   "name": "python",
   "nbconvert_exporter": "python",
   "pygments_lexer": "ipython3",
   "version": "3.6.5"
  }
 },
 "nbformat": 4,
 "nbformat_minor": 4
}
